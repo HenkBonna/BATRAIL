{
 "cells": [
  {
   "attachments": {},
   "cell_type": "markdown",
   "metadata": {},
   "source": [
    "# Quick introduction to PyBaMM\n",
    "\n",
    "Within this project, the modelling functionalities of PyBaMM will be used.\n",
    "**PyBaMM** (Python Battery Mathematical Modelling) is an open-source battery simulation package written in Python. Amongst others, PyBaMM allows for simple battery simulations employing several types of electrochemical battery models, the DFN (Doyle-Fuller-Newman, or P2D) model, or its simplifications, the SPM (single particle model) and SPMe (single particle model with electrolyte). These basic models build up on systems of coupled differential equations, describing physical phenomena that happen inside a battery during operation (i.e. Li-ion transport, diffusion through electrolyte and active materials, charge-transfer reactions, etc.) – the details of which are outside the scope of this project.\n",
    "\n",
    "PyBaMM is a python package and can easily be installed using pip or conda, i.e.:\n",
    " \n",
    "```pip install pybamm```\n",
    "\n",
    "Note that PyBaMM currently requires python 3.8 or 3.9 and does not run on python 3.10.\n",
    "\n",
    "Further notes on installation and documentation can be found here: \n",
    "- https://www.pybamm.org/ \n",
    "- Source code and tutorials: https://github.com/pybamm-team/PyBaMM\n",
    "- Documentation: https://pybamm.readthedocs.io/en/latest/index.html \n"
   ]
  },
  {
   "attachments": {},
   "cell_type": "markdown",
   "metadata": {},
   "source": [
    "## Getting started\n",
    "This section gives a brief introduction on how to start a simple simulation within PyBaMM, partially based on some of the available introductory tutorials. This is far from being complete. Many more options and customizations are available, most of which are outside the scope of this project. Details can be found in the PyBaMM documentation."
   ]
  },
  {
   "cell_type": "code",
   "execution_count": null,
   "metadata": {},
   "outputs": [],
   "source": [
    "import pybamm"
   ]
  },
  {
   "attachments": {},
   "cell_type": "markdown",
   "metadata": {},
   "source": [
    "#### Selecting a model\n",
    "The first step is to select a model. Within this project we will DFN, SPMe and SPM, of which DFN is the most detailled and thus also computationally most expensive, followed by SPMe and SPM."
   ]
  },
  {
   "cell_type": "code",
   "execution_count": null,
   "metadata": {},
   "outputs": [],
   "source": [
    "# select & load model\n",
    "#model = pybamm.lithium_ion.SPM()\n",
    "model = pybamm.lithium_ion.SPMe()\n",
    "#model = pybamm.lithium_ion.DFN()"
   ]
  },
  {
   "attachments": {},
   "cell_type": "markdown",
   "metadata": {},
   "source": [
    "Each model requires a different set of variables. To get a full list of the available variables type:"
   ]
  },
  {
   "cell_type": "code",
   "execution_count": null,
   "metadata": {},
   "outputs": [],
   "source": [
    "model.variable_names()"
   ]
  },
  {
   "attachments": {},
   "cell_type": "markdown",
   "metadata": {},
   "source": [
    "Note that there are two variables for most quantities. This is because PyBaMM utilises both dimensionless and dimensional variables for these quantities. As a rule, the dimensionless variables have no units in their name and the dimensional variables have units in their name. If in doubt, it is recommend using the dimensional variable with units.\n",
    "\n",
    "\n",
    "As the list of parameters is VERY long, it makes sense to search for parameters using keywords (e.g. \"electrolyte\", \"voltage\", \"capacity\"). "
   ]
  },
  {
   "cell_type": "code",
   "execution_count": null,
   "metadata": {},
   "outputs": [],
   "source": [
    "model.variables.search(\"potential\")"
   ]
  },
  {
   "attachments": {},
   "cell_type": "markdown",
   "metadata": {},
   "source": [
    "#### Select a parameter set\n",
    "As a next step, we have to specify which parameters (i.e. which specific battery type) we want to simulate. Several different parametersets are available within PyBaMM (for references see section at the end of the notebook). Here we will start with the Chen2020 parameterset, that is based on an LG NMC811/Graphite cell."
   ]
  },
  {
   "cell_type": "code",
   "execution_count": null,
   "metadata": {},
   "outputs": [],
   "source": [
    "list(pybamm.parameter_sets)"
   ]
  },
  {
   "cell_type": "code",
   "execution_count": null,
   "metadata": {},
   "outputs": [],
   "source": [
    "# select parameterset\n",
    "parameter_values = pybamm.ParameterValues(\"Chen2020\") # Chen2020 is NMC811/Graphite cell"
   ]
  },
  {
   "attachments": {},
   "cell_type": "markdown",
   "metadata": {},
   "source": [
    "All parameters are stored in a dictionary, and can easily be viewed, searched and modified:"
   ]
  },
  {
   "cell_type": "code",
   "execution_count": null,
   "metadata": {},
   "outputs": [],
   "source": [
    "parameter_values"
   ]
  },
  {
   "cell_type": "code",
   "execution_count": null,
   "metadata": {},
   "outputs": [],
   "source": [
    "parameter_values=pybamm.ParameterValues(\"Marquis2019\")\n",
    "# search for parameters\n",
    "parameter_values.search(\"heat\")"
   ]
  },
  {
   "cell_type": "code",
   "execution_count": null,
   "metadata": {},
   "outputs": [],
   "source": [
    "# change parameter values\n",
    "parameter_values[\"Ambient temperature [K]\"] = 288.15"
   ]
  },
  {
   "attachments": {},
   "cell_type": "markdown",
   "metadata": {},
   "source": [
    "For more info on parameters see https://colab.research.google.com/github/pybamm-team/PyBaMM/blob/main/examples/notebooks/Getting%20Started/Tutorial%204%20-%20Setting%20parameter%20values.ipynb"
   ]
  },
  {
   "attachments": {},
   "cell_type": "markdown",
   "metadata": {},
   "source": [
    "#### Running the simulation"
   ]
  },
  {
   "cell_type": "code",
   "execution_count": null,
   "metadata": {},
   "outputs": [],
   "source": [
    "# create a simulation (used to process and solve the model)\n",
    "sim = pybamm.Simulation(model, parameter_values=parameter_values)"
   ]
  },
  {
   "cell_type": "code",
   "execution_count": null,
   "metadata": {},
   "outputs": [],
   "source": [
    "# solve the model\n",
    "sim.solve(t_eval=[0,3600]) # if no experiment is specified, a time interval (s) for the simulation has to be specified"
   ]
  },
  {
   "attachments": {},
   "cell_type": "markdown",
   "metadata": {},
   "source": [
    "### Working with the solution"
   ]
  },
  {
   "attachments": {},
   "cell_type": "markdown",
   "metadata": {},
   "source": [
    "#### Basic plotting\n",
    "There are several inbuilt plotting functionalities. Standard plot using standard variables:"
   ]
  },
  {
   "cell_type": "code",
   "execution_count": null,
   "metadata": {},
   "outputs": [],
   "source": [
    "sim.plot()"
   ]
  },
  {
   "attachments": {},
   "cell_type": "markdown",
   "metadata": {},
   "source": [
    "Customize the plot by selecting output variables (select from model variable list described above):"
   ]
  },
  {
   "cell_type": "code",
   "execution_count": null,
   "metadata": {},
   "outputs": [],
   "source": [
    "output_variables = [\"Terminal voltage [V]\"]\n",
    "sim.plot(output_variables=output_variables)"
   ]
  },
  {
   "cell_type": "code",
   "execution_count": null,
   "metadata": {},
   "outputs": [],
   "source": [
    "output_variables = [\"Electrolyte concentration [mol.m-3]\", \"Terminal voltage [V]\"]\n",
    "sim.plot(output_variables=output_variables)"
   ]
  },
  {
   "cell_type": "code",
   "execution_count": null,
   "metadata": {},
   "outputs": [],
   "source": [
    "sim.plot([[\"Electrode current density\", \"Electrolyte current density\"], \"Terminal voltage [V]\"])"
   ]
  },
  {
   "attachments": {},
   "cell_type": "markdown",
   "metadata": {},
   "source": [
    "To access the solution variables, a solution object has to be created:"
   ]
  },
  {
   "cell_type": "code",
   "execution_count": null,
   "metadata": {},
   "outputs": [],
   "source": [
    "solution = sim.solution"
   ]
  },
  {
   "attachments": {},
   "cell_type": "markdown",
   "metadata": {},
   "source": [
    "Variables can then be accessed and further processed:"
   ]
  },
  {
   "cell_type": "code",
   "execution_count": null,
   "metadata": {},
   "outputs": [],
   "source": [
    "t = solution[\"Time [s]\"]\n",
    "V = solution[\"Terminal voltage [V]\"]"
   ]
  },
  {
   "cell_type": "code",
   "execution_count": null,
   "metadata": {},
   "outputs": [],
   "source": [
    "t.entries"
   ]
  },
  {
   "cell_type": "code",
   "execution_count": null,
   "metadata": {},
   "outputs": [],
   "source": [
    "V.entries"
   ]
  },
  {
   "attachments": {},
   "cell_type": "markdown",
   "metadata": {},
   "source": [
    "The solution object or the data can then be saved (and loaded for later use):"
   ]
  },
  {
   "cell_type": "code",
   "execution_count": null,
   "metadata": {},
   "outputs": [],
   "source": [
    "#solution.save(\"sol.pkl\")\n",
    "#solution.save_data(\"sol_data.pkl\", [\"Current [A]\", \"Terminal voltage [V]\"],  to_format=\"csv\")\n",
    "\n",
    "#solution1 = pybamm.load(\"sol.pkl\")"
   ]
  },
  {
   "attachments": {},
   "cell_type": "markdown",
   "metadata": {},
   "source": [
    "### Defining experiments\n",
    "Without any further specifications, the experiment performed is the one specified in the input parameter set. For simulatin different types of experiments, the **experiment class** can be used.\n",
    "\n",
    "The experiment class is a handy tool for simulating different types of battery experiments. This can be done by passing on a set of instructions on how to cycle the battery, e.g.,:"
   ]
  },
  {
   "cell_type": "code",
   "execution_count": null,
   "metadata": {},
   "outputs": [],
   "source": [
    "experiment = pybamm.Experiment(\n",
    "    [\n",
    "        (\"Discharge at C/10 for 10 hours or until 3.3 V\",\n",
    "        \"Rest for 1 hour\",\n",
    "        \"Charge at 1 A until 4.1 V\",\n",
    "        \"Hold at 4.1 V until 50 mA\",\n",
    "        \"Rest for 1 hour\"),\n",
    "    ] * 3\n",
    ")"
   ]
  },
  {
   "attachments": {},
   "cell_type": "markdown",
   "metadata": {},
   "source": [
    "A cycle is defined by a tuple of operating instructions. In this case, the experiment consists of a cycle of constant current C/10 discharge, a one hour rest, a constant current (1 A) constant voltage (4.1 V) and another one hour rest, all of it repeated three times (notice the * 3).\n",
    "\n",
    "We can then create a new simulation by passing on our defined experiment using the experiment keyword argument (in addition to the model and parameter values that we reuse from above):"
   ]
  },
  {
   "cell_type": "code",
   "execution_count": null,
   "metadata": {},
   "outputs": [],
   "source": [
    "sim = pybamm.Simulation(model, parameter_values=parameter_values, experiment=experiment)"
   ]
  },
  {
   "cell_type": "code",
   "execution_count": null,
   "metadata": {},
   "outputs": [],
   "source": [
    "sim.solve() # note that here we don't have to specify evaluation time; this is included in the experiment\n",
    "sim.plot()"
   ]
  },
  {
   "attachments": {},
   "cell_type": "markdown",
   "metadata": {},
   "source": [
    "For more details and further examples on experiment definitions see https://colab.research.google.com/github/pybamm-team/PyBaMM/blob/main/examples/notebooks/Getting%20Started/Tutorial%205%20-%20Run%20experiments.ipynb#scrollTo=e3ZjqOoQF3I4"
   ]
  },
  {
   "attachments": {},
   "cell_type": "markdown",
   "metadata": {},
   "source": [
    "Another useful parameter to include in simulations is the initial state-of-charge. Commonly, this is taken from the initial conditions given in the parameter set, but can be specified within 0 and 1:"
   ]
  },
  {
   "cell_type": "code",
   "execution_count": null,
   "metadata": {},
   "outputs": [],
   "source": [
    "sim1 = pybamm.Simulation(model, parameter_values=parameter_values, experiment=experiment)\n",
    "sim1.solve(initial_soc=0.5)\n",
    "sim1.plot()"
   ]
  },
  {
   "attachments": {},
   "cell_type": "markdown",
   "metadata": {},
   "source": [
    "## Examples"
   ]
  },
  {
   "attachments": {},
   "cell_type": "markdown",
   "metadata": {},
   "source": [
    "### 1. Adding a thermal model\n",
    "Different options can be passed on to the model (as a dictionary), e.g. thermal models. Thermal models within PyBaMM are “isothermal” (default), “lumped”, “x-lumped”, or “x-full”.\n",
    "\n",
    "Note that a parameterset containing the relevant thermal parameters for this optional model has to be chosen (or relevant parameters have to be added to the parameterset). For more info on what type of options can be used, see https://pybamm.readthedocs.io/en/latest/source/api/models/base_models/base_battery_model.html"
   ]
  },
  {
   "cell_type": "code",
   "execution_count": null,
   "metadata": {},
   "outputs": [],
   "source": [
    "#options = {\"thermal\": \"x-full\"}\n",
    "options = {\"thermal\": \"lumped\"}\n",
    "model_thermal = pybamm.lithium_ion.SPMe(options=options)\n",
    "parameter_values_thermal = pybamm.ParameterValues(\"Marquis2019\")"
   ]
  },
  {
   "cell_type": "code",
   "execution_count": null,
   "metadata": {},
   "outputs": [],
   "source": [
    "sim_thermal = pybamm.Simulation(model_thermal, parameter_values=parameter_values_thermal)\n",
    "sim_thermal.solve([0, 3600])\n",
    "sim_thermal.plot([\n",
    "    \"Terminal voltage [V]\",\n",
    "    \"X-averaged cell temperature [K]\",\n",
    "    \"Cell temperature [K]\",\n",
    "])"
   ]
  },
  {
   "attachments": {},
   "cell_type": "markdown",
   "metadata": {},
   "source": [
    "### 2. Rate capability\n",
    "Calculate the capacity achieved at different C-rates."
   ]
  },
  {
   "cell_type": "code",
   "execution_count": null,
   "metadata": {},
   "outputs": [],
   "source": [
    "import numpy as np\n",
    "import matplotlib.pyplot as plt"
   ]
  },
  {
   "cell_type": "code",
   "execution_count": null,
   "metadata": {},
   "outputs": [],
   "source": [
    "model = pybamm.lithium_ion.SPMe()\n",
    "parameter_values = pybamm.ParameterValues(\"Chen2020\")\n",
    "\n",
    "C_rates = np.linspace(0.05, 5, 10)\n",
    "capacities = np.zeros_like(C_rates)\n",
    "currents = np.zeros_like(C_rates)\n",
    "voltage_av = np.zeros_like(C_rates)"
   ]
  },
  {
   "cell_type": "code",
   "execution_count": null,
   "metadata": {},
   "outputs": [],
   "source": [
    "for i, C_rate in enumerate(C_rates):\n",
    "    experiment = pybamm.Experiment(\n",
    "        [\"Discharge at {:.4f}C until 3.2V\".format(C_rate)],\n",
    "        period=\"{:.4f} seconds\".format(10 / C_rate),\n",
    "    )\n",
    "    sim = pybamm.Simulation(model, experiment=experiment, solver=pybamm.CasadiSolver())\n",
    "    sim.solve()\n",
    "\n",
    "    time = sim.solution[\"Time [s]\"].entries\n",
    "    capacity = sim.solution[\"Discharge capacity [A.h]\"]\n",
    "    current = sim.solution[\"Current [A]\"]\n",
    "    voltage = sim.solution[\"Terminal voltage [V]\"]\n",
    "\n",
    "    capacities[i] = capacity(time[-1])\n",
    "    currents[i] = current(time[-1])\n",
    "    voltage_av[i] = np.mean(voltage(time))"
   ]
  },
  {
   "cell_type": "code",
   "execution_count": 1,
   "metadata": {},
   "outputs": [
    {
     "ename": "NameError",
     "evalue": "name 'plt' is not defined",
     "output_type": "error",
     "traceback": [
      "\u001b[0;31m---------------------------------------------------------------------------\u001b[0m",
      "\u001b[0;31mNameError\u001b[0m                                 Traceback (most recent call last)",
      "Cell \u001b[0;32mIn[1], line 1\u001b[0m\n\u001b[0;32m----> 1\u001b[0m plt\u001b[39m.\u001b[39mfigure(\u001b[39m1\u001b[39m)\n\u001b[1;32m      2\u001b[0m plt\u001b[39m.\u001b[39mscatter(C_rates, capacities)\n\u001b[1;32m      3\u001b[0m plt\u001b[39m.\u001b[39mxlabel(\u001b[39m'\u001b[39m\u001b[39mC-rate\u001b[39m\u001b[39m'\u001b[39m)\n",
      "\u001b[0;31mNameError\u001b[0m: name 'plt' is not defined"
     ]
    }
   ],
   "source": [
    "plt.figure(1)\n",
    "plt.scatter(C_rates, capacities)\n",
    "plt.xlabel('C-rate')\n",
    "plt.ylabel('Capacity [Ah]')\n",
    "\n",
    "plt.figure(2)\n",
    "plt.scatter(currents * voltage_av, capacities * voltage_av)\n",
    "plt.xlabel('Power [W]')\n",
    "plt.ylabel('Energy [Wh]')\n",
    "\n",
    "plt.show()"
   ]
  },
  {
   "cell_type": "markdown",
   "metadata": {},
   "source": []
  },
  {
   "cell_type": "code",
   "execution_count": null,
   "metadata": {},
   "outputs": [],
   "source": []
  },
  {
   "attachments": {},
   "cell_type": "markdown",
   "metadata": {},
   "source": [
    "## References\n",
    "Get references for papers used within the PyBaMM code:"
   ]
  },
  {
   "cell_type": "code",
   "execution_count": null,
   "metadata": {},
   "outputs": [],
   "source": [
    "pybamm.print_citations()"
   ]
  },
  {
   "cell_type": "code",
   "execution_count": null,
   "metadata": {},
   "outputs": [],
   "source": []
  }
 ],
 "metadata": {
  "kernelspec": {
   "display_name": "pb",
   "language": "python",
   "name": "python3"
  },
  "language_info": {
   "codemirror_mode": {
    "name": "ipython",
    "version": 3
   },
   "file_extension": ".py",
   "mimetype": "text/x-python",
   "name": "python",
   "nbconvert_exporter": "python",
   "pygments_lexer": "ipython3",
   "version": "3.10.6"
  },
  "orig_nbformat": 4
 },
 "nbformat": 4,
 "nbformat_minor": 2
}
